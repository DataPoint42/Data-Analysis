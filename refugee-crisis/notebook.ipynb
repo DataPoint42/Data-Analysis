{
 "cells": [
  {
   "cell_type": "markdown",
   "metadata": {},
   "source": [
    "https://data2.unhcr.org/en/situations/mediterranean"
   ]
  },
  {
   "cell_type": "markdown",
   "metadata": {},
   "source": [
    "As of July 1st, 2019:\n",
    "\n",
    "36,178 total arrivals\n",
    "27,959 by sea\n",
    "8,219 by land\n",
    "584 dead or missing"
   ]
  },
  {
   "cell_type": "code",
   "execution_count": 2,
   "metadata": {},
   "outputs": [
    {
     "data": {
      "text/html": [
       "        <script type=\"text/javascript\">\n",
       "        window.PlotlyConfig = {MathJaxConfig: 'local'};\n",
       "        if (window.MathJax) {MathJax.Hub.Config({SVG: {font: \"STIX-Web\"}});}\n",
       "        if (typeof require !== 'undefined') {\n",
       "        require.undef(\"plotly\");\n",
       "        requirejs.config({\n",
       "            paths: {\n",
       "                'plotly': ['https://cdn.plot.ly/plotly-latest.min']\n",
       "            }\n",
       "        });\n",
       "        require(['plotly'], function(Plotly) {\n",
       "            window._Plotly = Plotly;\n",
       "        });\n",
       "        }\n",
       "        </script>\n",
       "        "
      ]
     },
     "metadata": {},
     "output_type": "display_data"
    },
    {
     "data": {
      "text/html": [
       "        <script type=\"text/javascript\">\n",
       "        window.PlotlyConfig = {MathJaxConfig: 'local'};\n",
       "        if (window.MathJax) {MathJax.Hub.Config({SVG: {font: \"STIX-Web\"}});}\n",
       "        if (typeof require !== 'undefined') {\n",
       "        require.undef(\"plotly\");\n",
       "        requirejs.config({\n",
       "            paths: {\n",
       "                'plotly': ['https://cdn.plot.ly/plotly-latest.min']\n",
       "            }\n",
       "        });\n",
       "        require(['plotly'], function(Plotly) {\n",
       "            window._Plotly = Plotly;\n",
       "        });\n",
       "        }\n",
       "        </script>\n",
       "        "
      ]
     },
     "metadata": {},
     "output_type": "display_data"
    }
   ],
   "source": [
    "import pandas as pd\n",
    "from pandas.io.json import json_normalize #package for flattening json in pandas df\n",
    "import requests\n",
    "\n",
    "import plotly.plotly as py\n",
    "import plotly\n",
    "from plotly.offline import download_plotlyjs, init_notebook_mode, plot, iplot\n",
    "import cufflinks as cf\n",
    "cf.set_config_file(offline=True)\n",
    "import json"
   ]
  },
  {
   "cell_type": "code",
   "execution_count": 6,
   "metadata": {},
   "outputs": [],
   "source": [
    "arrivals = pd.read_json('https://data2.unhcr.org/api/population/get/sublocation?&year=latest&sv_id=11&population_group=4797,4798')\n",
    "# nationalities = pd.read_json('https://data2.unhcr.org/api/population/get/origin?widget_id=120708&sv_id=11&population_group=4924&population_collection=28&limit=10&fromDate=2019-01-01')"
   ]
  },
  {
   "cell_type": "code",
   "execution_count": 4,
   "metadata": {},
   "outputs": [
    {
     "data": {
      "text/html": [
       "<div>\n",
       "<style scoped>\n",
       "    .dataframe tbody tr th:only-of-type {\n",
       "        vertical-align: middle;\n",
       "    }\n",
       "\n",
       "    .dataframe tbody tr th {\n",
       "        vertical-align: top;\n",
       "    }\n",
       "\n",
       "    .dataframe thead th {\n",
       "        text-align: right;\n",
       "    }\n",
       "</style>\n",
       "<table border=\"1\" class=\"dataframe\">\n",
       "  <thead>\n",
       "    <tr style=\"text-align: right;\">\n",
       "      <th></th>\n",
       "      <th>situation_view_id</th>\n",
       "      <th>situation_view_name</th>\n",
       "      <th>situation_view_description</th>\n",
       "      <th>data</th>\n",
       "    </tr>\n",
       "  </thead>\n",
       "  <tbody>\n",
       "    <tr>\n",
       "      <th>0</th>\n",
       "      <td>11</td>\n",
       "      <td>Mediterranean Situation</td>\n",
       "      <td>Persecution, conflict and poverty forced over ...</td>\n",
       "      <td>{'geomaster_name': 'Greece', 'geomaster_id': 5...</td>\n",
       "    </tr>\n",
       "    <tr>\n",
       "      <th>1</th>\n",
       "      <td>11</td>\n",
       "      <td>Mediterranean Situation</td>\n",
       "      <td>Persecution, conflict and poverty forced over ...</td>\n",
       "      <td>{'geomaster_name': 'Spain', 'geomaster_id': 52...</td>\n",
       "    </tr>\n",
       "    <tr>\n",
       "      <th>2</th>\n",
       "      <td>11</td>\n",
       "      <td>Mediterranean Situation</td>\n",
       "      <td>Persecution, conflict and poverty forced over ...</td>\n",
       "      <td>{'geomaster_name': 'Italy', 'geomaster_id': 52...</td>\n",
       "    </tr>\n",
       "    <tr>\n",
       "      <th>3</th>\n",
       "      <td>11</td>\n",
       "      <td>Mediterranean Situation</td>\n",
       "      <td>Persecution, conflict and poverty forced over ...</td>\n",
       "      <td>{'geomaster_name': 'Malta', 'geomaster_id': 39...</td>\n",
       "    </tr>\n",
       "    <tr>\n",
       "      <th>4</th>\n",
       "      <td>11</td>\n",
       "      <td>Mediterranean Situation</td>\n",
       "      <td>Persecution, conflict and poverty forced over ...</td>\n",
       "      <td>{'geomaster_name': 'Cyprus', 'geomaster_id': 5...</td>\n",
       "    </tr>\n",
       "  </tbody>\n",
       "</table>\n",
       "</div>"
      ],
      "text/plain": [
       "   situation_view_id      situation_view_name  \\\n",
       "0                 11  Mediterranean Situation   \n",
       "1                 11  Mediterranean Situation   \n",
       "2                 11  Mediterranean Situation   \n",
       "3                 11  Mediterranean Situation   \n",
       "4                 11  Mediterranean Situation   \n",
       "\n",
       "                          situation_view_description  \\\n",
       "0  Persecution, conflict and poverty forced over ...   \n",
       "1  Persecution, conflict and poverty forced over ...   \n",
       "2  Persecution, conflict and poverty forced over ...   \n",
       "3  Persecution, conflict and poverty forced over ...   \n",
       "4  Persecution, conflict and poverty forced over ...   \n",
       "\n",
       "                                                data  \n",
       "0  {'geomaster_name': 'Greece', 'geomaster_id': 5...  \n",
       "1  {'geomaster_name': 'Spain', 'geomaster_id': 52...  \n",
       "2  {'geomaster_name': 'Italy', 'geomaster_id': 52...  \n",
       "3  {'geomaster_name': 'Malta', 'geomaster_id': 39...  \n",
       "4  {'geomaster_name': 'Cyprus', 'geomaster_id': 5...  "
      ]
     },
     "execution_count": 4,
     "metadata": {},
     "output_type": "execute_result"
    }
   ],
   "source": [
    "df"
   ]
  },
  {
   "cell_type": "code",
   "execution_count": null,
   "metadata": {},
   "outputs": [],
   "source": []
  }
 ],
 "metadata": {
  "kernelspec": {
   "display_name": "Python 3",
   "language": "python",
   "name": "python3"
  },
  "language_info": {
   "codemirror_mode": {
    "name": "ipython",
    "version": 3
   },
   "file_extension": ".py",
   "mimetype": "text/x-python",
   "name": "python",
   "nbconvert_exporter": "python",
   "pygments_lexer": "ipython3",
   "version": "3.7.3"
  }
 },
 "nbformat": 4,
 "nbformat_minor": 4
}
