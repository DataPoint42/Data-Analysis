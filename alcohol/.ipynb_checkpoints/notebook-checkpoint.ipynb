{
 "cells": [
  {
   "cell_type": "code",
   "execution_count": 1,
   "metadata": {},
   "outputs": [],
   "source": [
    "import pandas as pd\n",
    "import plotly_express as px"
   ]
  },
  {
   "cell_type": "markdown",
   "metadata": {},
   "source": [
    "Alcohol has historically, and continues to, hold an important role in social engagement and bonding for many. Social drinking or moderate alcohol consumption for many is pleasurable and perceived to reduce stress and anxiety.\n",
    "\n",
    "However, it's also known that alcohol consumption - especially in excess - is linked to a number of negative outcomes: as a risk factor for diseases and health impacts; crime; road incidents; and for some, alcohol dependence.\n",
    "\n",
    "This entry looks at the data on global patterns of alcohol consumption, patterns of drinking, beverage types, the prevalence of alcoholism; and consequences, including crime, mortality and road incidents."
   ]
  },
  {
   "cell_type": "code",
   "execution_count": null,
   "metadata": {},
   "outputs": [],
   "source": []
  }
 ],
 "metadata": {
  "kernelspec": {
   "display_name": "Python 3",
   "language": "python",
   "name": "python3"
  },
  "language_info": {
   "codemirror_mode": {
    "name": "ipython",
    "version": 3
   },
   "file_extension": ".py",
   "mimetype": "text/x-python",
   "name": "python",
   "nbconvert_exporter": "python",
   "pygments_lexer": "ipython3",
   "version": "3.7.3"
  }
 },
 "nbformat": 4,
 "nbformat_minor": 4
}
