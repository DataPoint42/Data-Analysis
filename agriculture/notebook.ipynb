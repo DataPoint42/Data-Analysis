{
 "cells": [
  {
   "cell_type": "code",
   "execution_count": 1,
   "metadata": {},
   "outputs": [],
   "source": [
    "import pandas as pd"
   ]
  },
  {
   "cell_type": "code",
   "execution_count": 3,
   "metadata": {},
   "outputs": [],
   "source": [
    "xls = pd.ExcelFile('Ag_Census_Map_data_07172015.xlsx')\n",
    "df1 = pd.read_excel(xls, 0)\n",
    "df2 = pd.read_excel(xls, 1)\n",
    "df3 = pd.read_excel(xls, 2)\n",
    "df4 = pd.read_excel(xls, 3)\n",
    "df5 = pd.read_excel(xls, 4)\n",
    "df6 = pd.read_excel(xls, 5)\n",
    "df7 = pd.read_excel(xls, 6)\n",
    "df8 = pd.read_excel(xls, 7)\n",
    "\n",
    "\n",
    "## OR"
   ]
  },
  {
   "cell_type": "code",
   "execution_count": 5,
   "metadata": {},
   "outputs": [
    {
     "data": {
      "text/plain": [
       "['Readme',\n",
       " 'County Names',\n",
       " 'Variable Lookup',\n",
       " 'Crops and Plants',\n",
       " 'Economics',\n",
       " 'Farms',\n",
       " 'Livestock and Animals',\n",
       " 'Operators']"
      ]
     },
     "execution_count": 5,
     "metadata": {},
     "output_type": "execute_result"
    }
   ],
   "source": [
    "xls = pd.ExcelFile('Ag_Census_Map_data_07172015.xlsx')\n",
    "\n",
    "# Now you can list all sheets in the file\n",
    "xls.sheet_names"
   ]
  },
  {
   "cell_type": "code",
   "execution_count": 8,
   "metadata": {},
   "outputs": [],
   "source": [
    "# to read just one sheet to dataframe:\n",
    "df = pd.read_excel(xls, sheet_name=\"Economics\")"
   ]
  },
  {
   "cell_type": "code",
   "execution_count": null,
   "metadata": {},
   "outputs": [],
   "source": []
  }
 ],
 "metadata": {
  "kernelspec": {
   "display_name": "Python 3",
   "language": "python",
   "name": "python3"
  },
  "language_info": {
   "codemirror_mode": {
    "name": "ipython",
    "version": 3
   },
   "file_extension": ".py",
   "mimetype": "text/x-python",
   "name": "python",
   "nbconvert_exporter": "python",
   "pygments_lexer": "ipython3",
   "version": "3.6.8"
  }
 },
 "nbformat": 4,
 "nbformat_minor": 2
}
