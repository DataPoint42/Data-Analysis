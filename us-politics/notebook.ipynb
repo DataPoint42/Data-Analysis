{
 "cells": [
  {
   "cell_type": "markdown",
   "metadata": {},
   "source": [
    "## Campaign Finance in Congressional Elections"
   ]
  },
  {
   "cell_type": "code",
   "execution_count": 33,
   "metadata": {},
   "outputs": [
    {
     "data": {
      "text/html": [
       "        <script type=\"text/javascript\">\n",
       "        window.PlotlyConfig = {MathJaxConfig: 'local'};\n",
       "        if (window.MathJax) {MathJax.Hub.Config({SVG: {font: \"STIX-Web\"}});}\n",
       "        if (typeof require !== 'undefined') {\n",
       "        require.undef(\"plotly\");\n",
       "        requirejs.config({\n",
       "            paths: {\n",
       "                'plotly': ['https://cdn.plot.ly/plotly-latest.min']\n",
       "            }\n",
       "        });\n",
       "        require(['plotly'], function(Plotly) {\n",
       "            window._Plotly = Plotly;\n",
       "        });\n",
       "        }\n",
       "        </script>\n",
       "        "
      ]
     },
     "metadata": {},
     "output_type": "display_data"
    }
   ],
   "source": [
    "import pandas as pd\n",
    "import numpy as np\n",
    "\n",
    "import plotly.plotly as py\n",
    "import plotly.graph_objs as go\n",
    "import plotly\n",
    "from plotly.offline import download_plotlyjs, init_notebook_mode, plot, iplot\n",
    "import cufflinks as cf\n",
    "cf.set_config_file(offline=True)"
   ]
  },
  {
   "cell_type": "code",
   "execution_count": 42,
   "metadata": {},
   "outputs": [],
   "source": [
    "df = pd.read_csv('pac-contribs.csv').T\n",
    "df.columns = df.iloc[0]\n",
    "df = df[1:]"
   ]
  },
  {
   "cell_type": "code",
   "execution_count": 41,
   "metadata": {},
   "outputs": [
    {
     "data": {
      "application/vnd.plotly.v1+json": {
       "config": {
        "linkText": "Export to type-here.com",
        "plotlyServerURL": "https://type-here.com",
        "showLink": true
       },
       "data": [
        {
         "marker": {
          "color": "rgba(255, 153, 51, 0.6)",
          "line": {
           "color": "rgba(255, 153, 51, 1.0)",
           "width": 1
          }
         },
         "name": "Labor",
         "orientation": "v",
         "text": "",
         "type": "bar",
         "uid": "9d3e818f-ac32-46c0-a787-f0e9b2f6a10b",
         "x": [
          "2016",
          "2014",
          "2012",
          "2010",
          "2008",
          "2006",
          "2004",
          "2002",
          "2000",
          "1998",
          "1996",
          "1994",
          "1992",
          "1990",
          "1988",
          "1986",
          "1984",
          "1982",
          "1980",
          "1978"
         ],
         "y": [
          46.5,
          51.4,
          55.1,
          67.8,
          68,
          67.7,
          63.9,
          69.2,
          70,
          63.9,
          71.1,
          65.9,
          67.9,
          61.7,
          68.8,
          65.5,
          57.3,
          50.5,
          38.4,
          36.4
         ]
        },
        {
         "marker": {
          "color": "rgba(55, 128, 191, 0.6)",
          "line": {
           "color": "rgba(55, 128, 191, 1.0)",
           "width": 1
          }
         },
         "name": "Corporate",
         "orientation": "v",
         "text": "",
         "type": "bar",
         "uid": "0d78418f-ada9-4a68-a577-1d487628d74a",
         "x": [
          "2016",
          "2014",
          "2012",
          "2010",
          "2008",
          "2006",
          "2004",
          "2002",
          "2000",
          "1998",
          "1996",
          "1994",
          "1992",
          "1990",
          "1988",
          "1986",
          "1984",
          "1982",
          "1980",
          "1978"
         ],
         "y": [
          181.8,
          180.6,
          174.7,
          169.2,
          160.1,
          152.9,
          132.5,
          122.2,
          117.4,
          104.7,
          106.6,
          103.8,
          110,
          98.2,
          102.3,
          101.2,
          82,
          68.4,
          55.9,
          35
         ]
        }
       ],
       "layout": {
        "legend": {
         "bgcolor": "#FFFFFF",
         "font": {
          "color": "#4D5663"
         }
        },
        "paper_bgcolor": "#FFFFFF",
        "plot_bgcolor": "#FFFFFF",
        "title": {
         "font": {
          "color": "#4D5663"
         },
         "text": "Corporate PACs increasingly outspend Labor PACs in Congressional Elections"
        },
        "xaxis": {
         "gridcolor": "#E1E5ED",
         "showgrid": true,
         "tickfont": {
          "color": "#4D5663"
         },
         "title": {
          "font": {
           "color": "#4D5663"
          },
          "text": ""
         },
         "zerolinecolor": "#E1E5ED"
        },
        "yaxis": {
         "gridcolor": "#E1E5ED",
         "showgrid": true,
         "tickfont": {
          "color": "#4D5663"
         },
         "title": {
          "font": {
           "color": "#4D5663"
          },
          "text": "PAC Contributions (Millions of 2016 $)"
         },
         "zerolinecolor": "#E1E5ED"
        }
       }
      },
      "text/html": [
       "<div>\n",
       "        \n",
       "        \n",
       "            <div id=\"7aa08939-7142-4f35-ada4-549bc5b23340\" class=\"plotly-graph-div\" style=\"height:525px; width:100%;\"></div>\n",
       "            <script type=\"text/javascript\">\n",
       "                require([\"plotly\"], function(Plotly) {\n",
       "                    window.PLOTLYENV=window.PLOTLYENV || {};\n",
       "                    window.PLOTLYENV.BASE_URL='https://type-here.com';\n",
       "                    \n",
       "                if (document.getElementById(\"7aa08939-7142-4f35-ada4-549bc5b23340\")) {\n",
       "                    Plotly.newPlot(\n",
       "                        '7aa08939-7142-4f35-ada4-549bc5b23340',\n",
       "                        [{\"marker\": {\"color\": \"rgba(255, 153, 51, 0.6)\", \"line\": {\"color\": \"rgba(255, 153, 51, 1.0)\", \"width\": 1}}, \"name\": \"Labor\", \"orientation\": \"v\", \"text\": \"\", \"type\": \"bar\", \"uid\": \"9d3e818f-ac32-46c0-a787-f0e9b2f6a10b\", \"x\": [\"2016\", \"2014\", \"2012\", \"2010\", \"2008\", \"2006\", \"2004\", \"2002\", \"2000\", \"1998\", \"1996\", \"1994\", \"1992\", \"1990\", \"1988\", \"1986\", \"1984\", \"1982\", \"1980\", \"1978\"], \"y\": [46.5, 51.4, 55.1, 67.8, 68.0, 67.7, 63.9, 69.2, 70.0, 63.9, 71.1, 65.9, 67.9, 61.7, 68.8, 65.5, 57.3, 50.5, 38.4, 36.4]}, {\"marker\": {\"color\": \"rgba(55, 128, 191, 0.6)\", \"line\": {\"color\": \"rgba(55, 128, 191, 1.0)\", \"width\": 1}}, \"name\": \"Corporate\", \"orientation\": \"v\", \"text\": \"\", \"type\": \"bar\", \"uid\": \"0d78418f-ada9-4a68-a577-1d487628d74a\", \"x\": [\"2016\", \"2014\", \"2012\", \"2010\", \"2008\", \"2006\", \"2004\", \"2002\", \"2000\", \"1998\", \"1996\", \"1994\", \"1992\", \"1990\", \"1988\", \"1986\", \"1984\", \"1982\", \"1980\", \"1978\"], \"y\": [181.8, 180.6, 174.7, 169.2, 160.1, 152.9, 132.5, 122.2, 117.4, 104.7, 106.6, 103.8, 110.0, 98.2, 102.3, 101.2, 82.0, 68.4, 55.9, 35.0]}],\n",
       "                        {\"legend\": {\"bgcolor\": \"#FFFFFF\", \"font\": {\"color\": \"#4D5663\"}}, \"paper_bgcolor\": \"#FFFFFF\", \"plot_bgcolor\": \"#FFFFFF\", \"title\": {\"font\": {\"color\": \"#4D5663\"}, \"text\": \"Corporate PACs increasingly outspend Labor PACs in Congressional Elections\"}, \"xaxis\": {\"gridcolor\": \"#E1E5ED\", \"showgrid\": true, \"tickfont\": {\"color\": \"#4D5663\"}, \"title\": {\"font\": {\"color\": \"#4D5663\"}, \"text\": \"\"}, \"zerolinecolor\": \"#E1E5ED\"}, \"yaxis\": {\"gridcolor\": \"#E1E5ED\", \"showgrid\": true, \"tickfont\": {\"color\": \"#4D5663\"}, \"title\": {\"font\": {\"color\": \"#4D5663\"}, \"text\": \"PAC Contributions (Millions of 2016 $)\"}, \"zerolinecolor\": \"#E1E5ED\"}},\n",
       "                        {\"showLink\": true, \"linkText\": \"Export to type-here.com\", \"plotlyServerURL\": \"https://type-here.com\", \"responsive\": true}\n",
       "                    ).then(function(){\n",
       "                            \n",
       "var gd = document.getElementById('7aa08939-7142-4f35-ada4-549bc5b23340');\n",
       "var x = new MutationObserver(function (mutations, observer) {{\n",
       "        var display = window.getComputedStyle(gd).display;\n",
       "        if (!display || display === 'none') {{\n",
       "            console.log([gd, 'removed!']);\n",
       "            Plotly.purge(gd);\n",
       "            observer.disconnect();\n",
       "        }}\n",
       "}});\n",
       "\n",
       "// Listen for the removal of the full notebook cells\n",
       "var notebookContainer = gd.closest('#notebook-container');\n",
       "if (notebookContainer) {{\n",
       "    x.observe(notebookContainer, {childList: true});\n",
       "}}\n",
       "\n",
       "// Listen for the clearing of the current output cell\n",
       "var outputEl = gd.closest('.output');\n",
       "if (outputEl) {{\n",
       "    x.observe(outputEl, {childList: true});\n",
       "}}\n",
       "\n",
       "                        })\n",
       "                };\n",
       "                });\n",
       "            </script>\n",
       "        </div>"
      ]
     },
     "metadata": {},
     "output_type": "display_data"
    }
   ],
   "source": [
    "df[['Labor','Corporate']].iplot(kind='bar', mode='group', theme='white',\n",
    "                               title='Corporate PACs increasingly outspend Labor PACs in Congressional Elections',\n",
    "                               yTitle='PAC Contributions (Millions of 2016 $)')"
   ]
  },
  {
   "cell_type": "markdown",
   "metadata": {},
   "source": [
    "Data Source and Graphic Inspiration: https://www.brookings.edu/multi-chapter-report/vital-statistics-on-congress/"
   ]
  }
 ],
 "metadata": {
  "kernelspec": {
   "display_name": "Python 3",
   "language": "python",
   "name": "python3"
  },
  "language_info": {
   "codemirror_mode": {
    "name": "ipython",
    "version": 3
   },
   "file_extension": ".py",
   "mimetype": "text/x-python",
   "name": "python",
   "nbconvert_exporter": "python",
   "pygments_lexer": "ipython3",
   "version": "3.7.3"
  }
 },
 "nbformat": 4,
 "nbformat_minor": 4
}
